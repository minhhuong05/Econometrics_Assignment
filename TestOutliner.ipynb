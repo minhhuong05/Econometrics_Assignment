{
  "nbformat": 4,
  "nbformat_minor": 0,
  "metadata": {
    "colab": {
      "provenance": [],
      "include_colab_link": true
    },
    "kernelspec": {
      "name": "python3",
      "display_name": "Python 3"
    },
    "language_info": {
      "name": "python"
    }
  },
  "cells": [
    {
      "cell_type": "markdown",
      "metadata": {
        "id": "view-in-github",
        "colab_type": "text"
      },
      "source": [
        "<a href=\"https://colab.research.google.com/github/minhhuong05/Econometrics_Midterm_Assignment/blob/main/TestOutliner.ipynb\" target=\"_parent\"><img src=\"https://colab.research.google.com/assets/colab-badge.svg\" alt=\"Open In Colab\"/></a>"
      ]
    },
    {
      "cell_type": "code",
      "source": [
        "import pandas as pd\n",
        "from sklearn.linear_model import LinearRegression\n",
        "from sklearn.model_selection import train_test_split\n",
        "from sklearn.metrics import r2_score, mean_squared_error\n",
        "import numpy as np\n",
        "\n",
        "# Load the CSV data into a pandas DataFrame\n",
        "df = pd.read_csv('/content/bank-additional-full.csv', sep=';')\n",
        "df = df.drop_duplicates()\n",
        "\n",
        "# Convert the target variable from string to binary (0 or 1)\n",
        "df['y'] = df['y'].map({'no': 0, 'yes': 1})\n",
        "\n",
        "# Select the relevant features and target variable\n",
        "features = ['campaign', 'emp.var.rate', 'cons.price.idx', 'euribor3m', 'nr.employed']\n",
        "target = 'y'\n",
        "\n",
        "X = df[features]\n",
        "y = df[target]\n",
        "\n",
        "# Split data into training and testing sets\n",
        "X_train, X_test, y_train, y_test = train_test_split(X, y, test_size=0.2, random_state=42)\n",
        "\n",
        "# Create and train the model\n",
        "model = LinearRegression()\n",
        "model.fit(X_train, y_train)\n",
        "\n",
        "# Make predictions on the test data\n",
        "y_pred = model.predict(X_test)\n",
        "\n",
        "# Evaluate the model's performance\n",
        "r2 = r2_score(y_test, y_pred)\n",
        "mse = mean_squared_error(y_test, y_pred)\n",
        "\n",
        "print('R-squared:', r2)\n",
        "print('Mean Squared Error:', mse)\n",
        "\n",
        "# Test the model with a specific data point (optional)\n",
        "new_data = {'campaign': 10, 'emp.var.rate': 2.5, 'cons.price.idx': -0.2, 'euribor3m': 1.2, 'nr.employed': -1000}  # Replace with your desired values\n",
        "new_data_df = pd.DataFrame([new_data])\n",
        "\n",
        "prediction = model.predict(new_data_df)[0]\n",
        "print('Predicted value for the new data point:', prediction)"
      ],
      "metadata": {
        "colab": {
          "base_uri": "https://localhost:8080/"
        },
        "id": "BDhb4QUtWB7q",
        "outputId": "547043ce-38e8-466a-98bb-348c3ef2c16b"
      },
      "execution_count": null,
      "outputs": [
        {
          "output_type": "stream",
          "name": "stdout",
          "text": [
            "R-squared: 0.1282781451230075\n",
            "Mean Squared Error: 0.0906567418966878\n",
            "Predicted value for the new data point: 13.07670958951811\n"
          ]
        }
      ]
    },
    {
      "cell_type": "markdown",
      "source": [
        "#Nhận xét\n",
        "ta có thể đưa ra một số nhận xét về các điểm ngoại lệ:\n",
        "\n",
        "R-squared: Giá trị R-squared khá thấp (0.128), điều này có thể ngụ ý rằng mô hình không giải thích được một phần lớn sự biến thiên của dữ liệu. Điều này có thể là do sự hiện diện của các điểm ngoại lệ trong tập dữ liệu, khiến cho mô hình không thể tốt hơn.\n",
        "Mean Squared Error (MSE): Giá trị MSE cũng khá cao (0.091), cho thấy sự chênh lệch lớn giữa các giá trị dự đoán và giá trị thực tế. Các điểm ngoại lệ có thể đóng góp vào việc tăng giá trị MSE này.\n",
        "Giá trị dự đoán cho điểm dữ liệu mới: Giá trị dự đoán (13.076) cho điểm dữ liệu mới có vẻ rất cao so với phạm vi dự kiến của biến mục tiêu (thường là 0 hoặc 1 trong bài toán phân loại nhị phân). Điều này có thể là dấu hiệu của một điểm ngoại lệ."
      ],
      "metadata": {
        "id": "GzGHAlRsxDTU"
      }
    },
    {
      "cell_type": "code",
      "source": [
        "#LOẠI BỎ CÁC ĐIỂM NGOẠI LỆ\n",
        "# Identify outliers using Z-score\n",
        "from scipy import stats\n",
        "\n",
        "# Calculate Z-score for each predicted value\n",
        "df['y_pred'] = model.predict(X)\n",
        "df['Z-score'] = np.abs(stats.zscore(df['y_pred']))\n",
        "\n",
        "# Define a threshold for Z-score\n",
        "threshold = 3\n",
        "\n",
        "# Remove outliers from the DataFrame\n",
        "df = df[df['Z-score'] < threshold]\n",
        "\n",
        "# Drop unnecessary columns\n",
        "df = df.drop(columns=['y_pred', 'Z-score'])\n",
        "\n",
        "# Re-split data into features and target\n",
        "X = df[features]\n",
        "y = df[target]\n",
        "\n",
        "# Re-split data into training and testing sets\n",
        "X_train, X_test, y_train, y_test = train_test_split(X, y, test_size=0.2, random_state=42)\n",
        "\n",
        "# Re-train the model\n",
        "model.fit(X_train, y_train)\n",
        "\n",
        "# Make predictions on the test data\n",
        "y_pred = model.predict(X_test)\n",
        "\n",
        "# Evaluate the model's performance\n",
        "r2 = r2_score(y_test, y_pred)\n",
        "mse = mean_squared_error(y_test, y_pred)\n",
        "\n",
        "print('R-squared:', r2)\n",
        "print('Mean Squared Error:', mse)"
      ],
      "metadata": {
        "colab": {
          "base_uri": "https://localhost:8080/"
        },
        "id": "LTi8nqGxaCh0",
        "outputId": "3a1ee9c7-1cdd-4a3e-a590-6476c57fd81d"
      },
      "execution_count": null,
      "outputs": [
        {
          "output_type": "stream",
          "name": "stdout",
          "text": [
            "R-squared: 0.1157176471849174\n",
            "Mean Squared Error: 0.08263095354630819\n"
          ]
        }
      ]
    },
    {
      "cell_type": "markdown",
      "source": [
        "#Nhận xét:\n",
        "giá trị R-squared là 0.116, điều này ngụ ý rằng mô hình chỉ giải thích được khoảng 11.6% sự biến thiên của biến mục tiêu. Điều này cho thấy mô hình không giải thích được một phần lớn sự biến thiên của dữ liệu.MSE càng thấp thì mô hình càng chính xác. Trong trường hợp này, giá trị MSE là 0.083, điều này ngụ ý rằng sai số bình phương trung bình giữa giá trị dự đoán và giá trị thực tế trên tập dữ liệu kiểm tra là khoảng 0.083.\n",
        "Tóm lại, các giá trị R-squared và MSE này cho thấy mô hình hồi quy tuyến tính không đạt được hiệu suất tốt trên tập dữ liệu kiểm tra."
      ],
      "metadata": {
        "id": "XjxfZ-sWxV9n"
      }
    },
    {
      "cell_type": "markdown",
      "source": [
        "#Dùng Zcore test Outliner\n"
      ],
      "metadata": {
        "id": "NQddICaNbVns"
      }
    },
    {
      "cell_type": "code",
      "source": [
        "import pandas as pd\n",
        "from sklearn.linear_model import LinearRegression\n",
        "from scipy import stats\n",
        "\n",
        "# Đọc dữ liệu từ file CSV\n",
        "data = pd.read_csv('/content/bank-additional-full.csv', sep =';')\n",
        "\n",
        "# Tạo DataFrame từ dữ liệu\n",
        "df = pd.DataFrame(data)\n",
        "\n",
        "# Tính toán giá trị P(y) dựa trên mô hình linear regression đã cho\n",
        "df['P(y)'] = 0.57497 - 0.00246*df['campaign'] + 0.01828*df['emp.var.rate'] - 5e-05*df['cons.price.idx'] - 0.00169*df['euribor3m'] - 0.01857*df['nr.employed']\n",
        "\n",
        "# Tính Z-score cho P(y)\n",
        "df['Z-score'] = stats.zscore(df['P(y)'])\n",
        "\n",
        "# In ra tất cả các giá trị Z-score\n",
        "print(\"Tất cả các giá trị Z-score:\")\n",
        "print(df['Z-score'])\n",
        "\n",
        "# Xác định các điểm ngoại lệ dựa trên Z-score\n",
        "outliers = df[(df['Z-score'] > 3) | (df['Z-score'] < -3)]\n",
        "\n",
        "# In ra các điểm ngoại lệ\n",
        "print(\"Các điểm ngoại lệ:\")\n",
        "print(outliers)"
      ],
      "metadata": {
        "colab": {
          "base_uri": "https://localhost:8080/"
        },
        "id": "o_LajjA3XTIC",
        "outputId": "f0f13acb-82ce-4c64-96af-72ff2d647a73"
      },
      "execution_count": null,
      "outputs": [
        {
          "output_type": "stream",
          "name": "stdout",
          "text": [
            "Tất cả các giá trị Z-score:\n",
            "0       -0.321835\n",
            "1       -0.321835\n",
            "2       -0.321835\n",
            "3       -0.321835\n",
            "4       -0.321835\n",
            "           ...   \n",
            "41183    2.852928\n",
            "41184    2.852928\n",
            "41185    2.851064\n",
            "41186    2.852928\n",
            "41187    2.849199\n",
            "Name: Z-score, Length: 41188, dtype: float64\n",
            "Các điểm ngoại lệ:\n",
            "Empty DataFrame\n",
            "Columns: [age, job, marital, education, default, housing, loan, contact, month, day_of_week, duration, campaign, pdays, previous, poutcome, emp.var.rate, cons.price.idx, cons.conf.idx, euribor3m, nr.employed, y, P(y), Z-score]\n",
            "Index: []\n",
            "\n",
            "[0 rows x 23 columns]\n"
          ]
        }
      ]
    },
    {
      "cell_type": "markdown",
      "source": [
        "Tất cả các giá trị Z-score: Các giá trị Z-score có phân phối từ -0.321835 đến 2.852928. Điều này ngụ ý rằng hầu hết các giá trị Z-score đều nằm trong khoảng chấp nhận được (-3 đến 3), chỉ có một số ít giá trị Z-score lớn hơn 3 hoặc nhỏ hơn -3.\n",
        "Các điểm ngoại lệ: Tuy có một số giá trị Z-score lớn hơn 3 hoặc nhỏ hơn -3, tuy nhiên, sau khi kiểm tra, không có điểm nào được xác định là ngoại lệ dựa trên ngưỡng Z-score = 3.\n",
        "Dựa vào kết quả này, có thể kết luận rằng không có điểm ngoại lệ được xác định trong dữ liệu của bạn dựa trên tiêu chuẩn Z-score = 3. Điều này có thể ngụ ý rằng phân phối của P(y) không có các giá trị ngoại lệ hoặc là các điểm ngoại lệ không đủ lớn để được xác định bằng phương pháp Z-score này.\n",
        "\n",
        "\n",
        "\n",
        "\n",
        "\n",
        "\n",
        "\n"
      ],
      "metadata": {
        "id": "YB6FaVAhbdUV"
      }
    }
  ]
}