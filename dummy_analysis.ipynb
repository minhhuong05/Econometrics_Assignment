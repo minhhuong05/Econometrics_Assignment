{
  "nbformat": 4,
  "nbformat_minor": 0,
  "metadata": {
    "colab": {
      "provenance": [],
      "include_colab_link": true
    },
    "kernelspec": {
      "name": "python3",
      "display_name": "Python 3"
    },
    "language_info": {
      "name": "python"
    }
  },
  "cells": [
    {
      "cell_type": "markdown",
      "metadata": {
        "id": "view-in-github",
        "colab_type": "text"
      },
      "source": [
        "<a href=\"https://colab.research.google.com/github/minhhuong05/Econometrics_Midterm_Assignment/blob/main/dummy_analysis.ipynb\" target=\"_parent\"><img src=\"https://colab.research.google.com/assets/colab-badge.svg\" alt=\"Open In Colab\"/></a>"
      ]
    },
    {
      "cell_type": "code",
      "execution_count": null,
      "metadata": {
        "id": "0_oD_UFQ2yxo"
      },
      "outputs": [],
      "source": [
        "import pandas as pd\n",
        "from sklearn.model_selection import train_test_split\n",
        "from sklearn.linear_model import LogisticRegression, LinearRegression\n",
        "from sklearn.metrics import mean_squared_error"
      ]
    },
    {
      "cell_type": "markdown",
      "source": [
        "## Linear Regression"
      ],
      "metadata": {
        "id": "qBGyIr5023Wq"
      }
    },
    {
      "cell_type": "code",
      "source": [
        "# Load data\n",
        "data = pd.read_csv('bank-additional-full.csv', delimiter=';')\n",
        "\n",
        "# Drop duplicates\n",
        "data = data.drop_duplicates()\n",
        "\n",
        "# Select only the relevant features\n",
        "selected_features = ['marital', 'default', 'housing', 'loan', 'campaign', 'emp.var.rate', 'cons.price.idx', 'euribor3m', 'nr.employed', 'y']\n",
        "data = data[selected_features]\n",
        "\n",
        "# Manual binary encoding\n",
        "data['marital'] = data['marital'].map({'married': 1, 'single': 0, 'divorced': 0, 'unknown': 0})\n",
        "data['default'] = data['default'].map({'no': 1, 'yes': 0, 'unknown': 0})\n",
        "data['housing'] = data['housing'].map({'yes': 1, 'no': 0, 'unknown': 0})\n",
        "data['loan'] = data['loan'].map({'no': 1, 'yes': 0, 'unknown': 0})\n",
        "\n",
        "# Split data\n",
        "X = data.drop('y', axis=1)\n",
        "y = data['y'].map({'yes': 1, 'no': 0})  # Encoding target variable\n",
        "X_train, X_test, y_train, y_test = train_test_split(X, y, test_size=0.33, random_state=1)\n",
        "\n",
        "# Linear regression model\n",
        "model = LinearRegression()\n",
        "model.fit(X_train, y_train)\n",
        "\n",
        "# Model evaluation\n",
        "r2_train = model.score(X_train, y_train)\n",
        "r2_test = model.score(X_test, y_test)\n",
        "print(f'R^2 on training data: {r2_train}')\n",
        "print(f'R^2 on testing data: {r2_test}')\n",
        "\n",
        "# Coefficients and intercept\n",
        "coefficients = model.coef_\n",
        "intercept = model.intercept_\n",
        "\n",
        "# Feature names\n",
        "feature_names = X.columns\n",
        "\n",
        "# Constructing the Linear Regression Equation\n",
        "equation_parts = [f\"{coeff:.4f}*{name}\" for coeff, name in zip(coefficients, feature_names)]\n",
        "linear_regression_equation = f\"y = {intercept:.4f} + \" + \" + \".join(equation_parts)\n",
        "\n",
        "print(\"Linear Regression Equation:\")\n",
        "print(linear_regression_equation)\n"
      ],
      "metadata": {
        "colab": {
          "base_uri": "https://localhost:8080/"
        },
        "id": "gRD_3eLG3oIx",
        "outputId": "b89aa4f3-176a-4f31-ffe9-e7d8332f362b"
      },
      "execution_count": null,
      "outputs": [
        {
          "output_type": "stream",
          "name": "stdout",
          "text": [
            "R^2 on training data: 0.12802395471392958\n",
            "R^2 on testing data: 0.15090186369163583\n",
            "Linear Regression Equation:\n",
            "y = 9.2467 + -0.0110*marital + 0.0236*default + -0.0013*housing + 0.0050*loan + -0.0019*campaign + -0.0427*emp.var.rate + 0.0276*cons.price.idx + 0.0691*euribor3m + -0.0023*nr.employed\n"
          ]
        }
      ]
    },
    {
      "cell_type": "markdown",
      "source": [
        "\n",
        "### Linear Regression Equation Dummy Variables Interpretation\n",
        "\n",
        "1. **Intercept (9.2467):** This is the log-odds of \\( y = 1 \\) when all predictors are at their reference level (i.e., when all are 0). Since the model involves binary coding, the reference levels correspond to not being in the '1' category of each variable.\n",
        "\n",
        "2. **Marital (-0.011):** Being married (marital = 1) is associated with a decrease in the log-odds of \\( y = 1 \\) by 0.011 compared to not being married (single, divorced, unknown). This suggests that married individuals are less likely to subscribe to a Term Deposit, assuming other variables are held constant.\n",
        "\n",
        "3. **Default (0.0236):** Having no default on credit (default = 1) is associated with an increase in the log-odds of \\( y = 1 \\) by 0.0236 compared to having a default or unknown status. This indicates that individuals with no default history are more likely to subscribe to a Term Deposit.\n",
        "\n",
        "4. **Housing (-0.0013):** Having a housing loan (housing = 1) is associated with a decrease in the log-odds of \\( y = 1 \\) by 0.0013. This could imply that individuals with housing loans are slightly less likely to subscribe to a Term Deposit\n",
        "\n",
        "5. **Loan (0.005):** Not having a personal loan (loan = 1) is associated with an increase in the log-odds of \\( y = 1 \\) by 0.005. This suggests a slight positive effect of not having a personal loan on the likelihood of subscribing to a Term Deposit\n",
        "\n",
        "\n",
        "\n",
        "### Overall Model Performance\n",
        "- **Accuracy on Training Data (12.8%):** This suggests that the model does not fit the training data quite well.\n",
        "- **Accuracy on Testing Data (15%):** Low accuracy on the testing data indicates that the model does notgeneralize well to new, unseen data.\n",
        "\n",
        "\n",
        "---\n",
        "\n"
      ],
      "metadata": {
        "id": "9WozKDyk3t4n"
      }
    },
    {
      "cell_type": "markdown",
      "source": [
        "## Logistic Regression"
      ],
      "metadata": {
        "id": "E7Ir67pj29kp"
      }
    },
    {
      "cell_type": "code",
      "source": [
        "#Split data\n",
        "X = data.drop('y', axis=1)\n",
        "y = data['y'].map({'yes': 1, 'no': 0})  # Encoding target variable\n",
        "X_train, X_test, y_train, y_test = train_test_split(X, y, test_size=0.33, random_state=1)\n",
        "\n",
        "# Logistic regression model\n",
        "model = LogisticRegression(max_iter=1000)\n",
        "model.fit(X_train, y_train)\n",
        "\n",
        "# Model evaluation\n",
        "accuracy_train = model.score(X_train, y_train)\n",
        "accuracy_test = model.score(X_test, y_test)\n",
        "print(f'Accuracy on training data: {accuracy_train}')\n",
        "print(f'Accuracy on testing data: {accuracy_test}')\n",
        "\n",
        "# Coefficients and intercept\n",
        "coefficients = model.coef_[0]\n",
        "intercept = model.intercept_[0]\n",
        "\n",
        "# Feature names\n",
        "feature_names = X.columns\n",
        "\n",
        "# Constructing the Logistic Regression Equation\n",
        "equation_parts = [f\"{coeff:.4f}*{name}\" for coeff, name in zip(coefficients, feature_names)]\n",
        "logistic_regression_equation = f\"Log-odds(P(y=1)) = {intercept:.4f} + \" + \" + \".join(equation_parts)\n",
        "\n",
        "print(\"Logistic Regression Equation:\")\n",
        "print(logistic_regression_equation)\n"
      ],
      "metadata": {
        "id": "HAPRSesA3oSF",
        "colab": {
          "base_uri": "https://localhost:8080/"
        },
        "outputId": "bd8939f8-633b-40e2-e5d4-22a72ef23c08"
      },
      "execution_count": null,
      "outputs": [
        {
          "output_type": "stream",
          "name": "stdout",
          "text": [
            "Accuracy on training data: 0.8854895421756624\n",
            "Accuracy on testing data: 0.8874825226285966\n",
            "Logistic Regression Equation:\n",
            "Log-odds(P(y=1)) = 0.0061 + -0.2075*marital + 0.3772*default + -0.0778*housing + 0.0782*loan + -0.0544*campaign + -0.5529*emp.var.rate + 0.4978*cons.price.idx + 0.2762*euribor3m + -0.0097*nr.employed\n"
          ]
        }
      ]
    },
    {
      "cell_type": "markdown",
      "source": [
        "\n",
        "### Logistic Regression Equation Interpretation\n",
        "\n",
        "\n",
        "#### Coefficients Interpretation\n",
        "\n",
        "1. **Intercept (0.0061):** This is the log-odds of \\( y = 1 \\) when all predictors are at their reference level (i.e., when all are 0). Since the model involves binary coding, the reference levels correspond to not being in the '1' category of each variable.\n",
        "\n",
        "2. **Marital (-0.2075):** Being married (marital = 1) is associated with a decrease in the log-odds of \\( y = 1 \\) by 0.2075 compared to not being married (single, divorced, unknown). This suggests that married individuals are less likely to subscribe to a Term Deposit, assuming other variables are held constant.\n",
        "\n",
        "3. **Default (0.3772):** Having no default on credit (default = 1) is associated with an increase in the log-odds of \\( y = 1 \\) by 0.3772 compared to having a default or unknown status. This indicates that individuals with no default history are more likely to subscribe to a Term Deposit .\n",
        "\n",
        "4. **Housing (-0.0778):** Having a housing loan (housing = 1) is associated with a decrease in the log-odds of \\( y = 1 \\) by 0.0778. This could imply that individuals with housing loans are slightly less likely to subscribe to a Term Deposit\n",
        "\n",
        "5. **Loan (0.0782):** Not having a personal loan (loan = 1) is associated with an increase in the log-odds of \\( y = 1 \\) by 0.0782. This suggests a slight positive effect of not having a personal loan on the likelihood of subscribing to a Term Deposit\n",
        "\n",
        "### Overall Model Performance\n",
        "- **Accuracy on Training Data (88.55%):** This suggests that the model fits the training data quite well.\n",
        "- **Accuracy on Testing Data (88.75%):** High accuracy on the testing data indicates that the model generalizes well to new, unseen data.\n"
      ],
      "metadata": {
        "id": "P1XGhKSo3MGg"
      }
    }
  ]
}