{
  "nbformat": 4,
  "nbformat_minor": 0,
  "metadata": {
    "colab": {
      "provenance": [],
      "include_colab_link": true
    },
    "kernelspec": {
      "name": "python3",
      "display_name": "Python 3"
    },
    "language_info": {
      "name": "python"
    }
  },
  "cells": [
    {
      "cell_type": "markdown",
      "metadata": {
        "id": "view-in-github",
        "colab_type": "text"
      },
      "source": [
        "<a href=\"https://colab.research.google.com/github/minhhuong05/Econometrics_Midterm_Assignment/blob/main/vif%2Bheteroskedasticity.ipynb\" target=\"_parent\"><img src=\"https://colab.research.google.com/assets/colab-badge.svg\" alt=\"Open In Colab\"/></a>"
      ]
    },
    {
      "cell_type": "markdown",
      "source": [
        "# VIF Test"
      ],
      "metadata": {
        "id": "pqMXdY7X_Upw"
      }
    },
    {
      "cell_type": "code",
      "source": [
        "import pandas as pd\n",
        "from statsmodels.stats.outliers_influence import variance_inflation_factor\n",
        "from statsmodels.tools.tools import add_constant"
      ],
      "metadata": {
        "id": "Fv72CI169kpM"
      },
      "execution_count": null,
      "outputs": []
    },
    {
      "cell_type": "code",
      "source": [
        "# Read data from CSV file, drop duplicate\n",
        "data = pd.read_csv('/content/drive/MyDrive/bank-additional-full.csv', sep=';')\n",
        "data = data.drop_duplicates()\n",
        "\n",
        "# Select variables of interest\n",
        "selected_vars = ['euribor3m', 'emp.var.rate', 'nr.employed', 'cons.price.idx', 'campaign']\n",
        "X = data[selected_vars]"
      ],
      "metadata": {
        "id": "lsyNmy-uA2A3"
      },
      "execution_count": null,
      "outputs": []
    },
    {
      "cell_type": "code",
      "source": [
        "# Add a constant column to the data for computing VIF\n",
        "X_with_const = add_constant(X)\n",
        "\n",
        "# Compute VIF for each independent variable\n",
        "vif_data = pd.DataFrame()\n",
        "vif_data[\"Variable\"] = X_with_const.columns\n",
        "vif_data[\"VIF\"] = [variance_inflation_factor(X_with_const.values, i) for i in range(X_with_const.shape[1])]\n",
        "\n",
        "print(vif_data)"
      ],
      "metadata": {
        "colab": {
          "base_uri": "https://localhost:8080/"
        },
        "id": "7m3dO35g96g-",
        "outputId": "0512aca9-e94b-4d4f-e4fc-587c708cc95c"
      },
      "execution_count": null,
      "outputs": [
        {
          "output_type": "stream",
          "name": "stdout",
          "text": [
            "         Variable            VIF\n",
            "0           const  303001.939708\n",
            "1       euribor3m      31.341625\n",
            "2    emp.var.rate      32.614143\n",
            "3     nr.employed      14.474171\n",
            "4  cons.price.idx       4.683652\n",
            "5        campaign       1.031704\n"
          ]
        }
      ]
    },
    {
      "cell_type": "markdown",
      "source": [
        "Based on the results of the Variance Inflation Factor (VIF) test:\n",
        "\n",
        "- The VIF values for the variables 'euribor3m', 'emp.var.rate', and 'nr.employed' are significantly higher than 10, indicating high multicollinearity among these variables.\n",
        "- The VIF value for the variable 'cons.price.idx' is relatively low, suggesting low multicollinearity.\n",
        "- The VIF value for the variable 'campaign' is close to 1, indicating little to no multicollinearity.\n",
        "\n",
        "Therefore, we can conclude that there is high multicollinearity among the variables 'euribor3m', 'emp.var.rate', and 'nr.employed', which may affect the stability and reliability of the regression coefficients for these variables."
      ],
      "metadata": {
        "id": "xL5XDzk8DTDu"
      }
    },
    {
      "cell_type": "markdown",
      "source": [
        "# Heteroskedasticity Test"
      ],
      "metadata": {
        "id": "o64niPsT-1ah"
      }
    },
    {
      "cell_type": "code",
      "source": [
        "import statsmodels.api as sm\n",
        "from statsmodels.compat import lzip\n",
        "from statsmodels.stats.diagnostic import het_breuschpagan"
      ],
      "metadata": {
        "id": "4vcU_k8O_ZzI"
      },
      "execution_count": null,
      "outputs": []
    },
    {
      "cell_type": "code",
      "source": [
        "# Read data from CSV file,drop duplicate\n",
        "data = pd.read_csv('/content/drive/MyDrive/bank-additional-full.csv', sep=';')\n",
        "data = data.drop_duplicates()\n",
        "\n",
        "# Select independent variables and the dependent variable\n",
        "X = data[['euribor3m', 'emp.var.rate', 'nr.employed', 'cons.price.idx', 'campaign']]\n",
        "y = data['y'].map({'yes': 1, 'no': 0})\n",
        "\n",
        "# Add a constant column to the data\n",
        "X = sm.add_constant(X)\n",
        "\n",
        "# Fit the regression model\n",
        "model = sm.OLS(y, X).fit()"
      ],
      "metadata": {
        "id": "ypaB2AUm_dXN"
      },
      "execution_count": null,
      "outputs": []
    },
    {
      "cell_type": "code",
      "source": [
        "# Perform the Breusch-Pagan test\n",
        "lm, lm_p_value, fvalue, f_p_value = het_breuschpagan(model.resid, X)\n",
        "\n",
        "# Print the results\n",
        "print(\"Breusch-Pagan LM Statistic:\", lm)\n",
        "print(\"Breusch-Pagan LM p-value:\", lm_p_value)\n",
        "print(\"Breusch-Pagan F-Statistic:\", fvalue)\n",
        "print(\"Breusch-Pagan F p-value:\", f_p_value)"
      ],
      "metadata": {
        "colab": {
          "base_uri": "https://localhost:8080/"
        },
        "id": "6SynFW_9AV79",
        "outputId": "382edbeb-75c2-427b-d9f1-4f5c509d2305"
      },
      "execution_count": null,
      "outputs": [
        {
          "output_type": "stream",
          "name": "stdout",
          "text": [
            "Breusch-Pagan LM Statistic: 3568.621173171877\n",
            "Breusch-Pagan LM p-value: 0.0\n",
            "Breusch-Pagan F-Statistic: 781.336739133104\n",
            "Breusch-Pagan F p-value: 0.0\n"
          ]
        }
      ]
    },
    {
      "cell_type": "markdown",
      "source": [
        "The results of the Breusch-Pagan test show that the p-values of both LM Statistic and F-Statistic are very small (both equal to 0). This indicates that we have enough evidence to reject the null hypothesis of no heteroscedasticity. In this case, we conclude that there is heteroscedasticity in the regression model."
      ],
      "metadata": {
        "id": "WXyTNyKqCsmt"
      }
    }
  ]
}